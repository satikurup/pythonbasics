{
 "cells": [
  {
   "cell_type": "markdown",
   "id": "e0a68883",
   "metadata": {},
   "source": [
    "# Average of two number"
   ]
  },
  {
   "cell_type": "code",
   "execution_count": 1,
   "id": "e0b8cdb1",
   "metadata": {},
   "outputs": [
    {
     "name": "stdout",
     "output_type": "stream",
     "text": [
      "Average of two numbers 8.5\n"
     ]
    }
   ],
   "source": [
    "Num1=7\n",
    "Num2=10\n",
    "Avg=(Num1+Num2)/2\n",
    "print(\"Average of two numbers\",Avg)"
   ]
  },
  {
   "cell_type": "markdown",
   "id": "9f72a41c",
   "metadata": {},
   "source": [
    "# Python program to find average of N numbers"
   ]
  },
  {
   "cell_type": "code",
   "execution_count": 1,
   "id": "20871d82",
   "metadata": {},
   "outputs": [
    {
     "name": "stdout",
     "output_type": "stream",
     "text": [
      "enter the number4\n",
      "enter numbers1\n",
      "enter numbers2\n",
      "enter numbers3\n",
      "enter numbers4\n",
      "Average of n number is 2.5\n"
     ]
    }
   ],
   "source": [
    "num=int(input(\"enter the number\"))\n",
    "Total=0\n",
    "for n in range(num):\n",
    "    number=int(input(\"enter numbers\"))\n",
    "    Total=Total+number\n",
    "avg=Total/num\n",
    "print(\"Average of n number is\",avg)"
   ]
  },
  {
   "cell_type": "code",
   "execution_count": null,
   "id": "563e49e2",
   "metadata": {},
   "outputs": [],
   "source": []
  },
  {
   "cell_type": "code",
   "execution_count": null,
   "id": "b8d18eca",
   "metadata": {},
   "outputs": [],
   "source": []
  }
 ],
 "metadata": {
  "kernelspec": {
   "display_name": "Python 3",
   "language": "python",
   "name": "python3"
  },
  "language_info": {
   "codemirror_mode": {
    "name": "ipython",
    "version": 3
   },
   "file_extension": ".py",
   "mimetype": "text/x-python",
   "name": "python",
   "nbconvert_exporter": "python",
   "pygments_lexer": "ipython3",
   "version": "3.8.8"
  }
 },
 "nbformat": 4,
 "nbformat_minor": 5
}
