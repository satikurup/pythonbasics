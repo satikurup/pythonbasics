{
 "cells": [
  {
   "cell_type": "markdown",
   "id": "ed1162fc",
   "metadata": {},
   "source": [
    "# find largest number"
   ]
  },
  {
   "cell_type": "code",
   "execution_count": 5,
   "id": "f18bc09d",
   "metadata": {},
   "outputs": [
    {
     "name": "stdout",
     "output_type": "stream",
     "text": [
      "enter number6\n",
      "enter second number2\n",
      "enter third number1\n",
      "6 is large\n"
     ]
    }
   ],
   "source": [
    "num1=int(input(\"enter number\"))\n",
    "num2=int(input(\"enter second number\"))\n",
    "num3=int(input(\"enter third number\"))\n",
    "if (num1>num2) & (num1>num3):\n",
    "    print(num1 ,\"is large\")\n",
    "elif(num2>num1)&(num2>num3):\n",
    "    print(num2,\" is large\")\n",
    "else:\n",
    "    print(num3,\"is large\")"
   ]
  },
  {
   "cell_type": "code",
   "execution_count": null,
   "id": "1a34932d",
   "metadata": {},
   "outputs": [],
   "source": []
  }
 ],
 "metadata": {
  "kernelspec": {
   "display_name": "Python 3",
   "language": "python",
   "name": "python3"
  },
  "language_info": {
   "codemirror_mode": {
    "name": "ipython",
    "version": 3
   },
   "file_extension": ".py",
   "mimetype": "text/x-python",
   "name": "python",
   "nbconvert_exporter": "python",
   "pygments_lexer": "ipython3",
   "version": "3.8.8"
  }
 },
 "nbformat": 4,
 "nbformat_minor": 5
}
