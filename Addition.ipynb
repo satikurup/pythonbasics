{
 "cells": [
  {
   "cell_type": "markdown",
   "id": "838d3cec",
   "metadata": {},
   "source": [
    "# Add two numbers"
   ]
  },
  {
   "cell_type": "code",
   "execution_count": 1,
   "id": "c5026517",
   "metadata": {},
   "outputs": [
    {
     "name": "stdout",
     "output_type": "stream",
     "text": [
      "sum of two numbers 43\n"
     ]
    }
   ],
   "source": [
    "Number1=21\n",
    "Number2=22\n",
    "sum= Number1+Number2\n",
    "print(\"sum of two numbers\",sum)"
   ]
  },
  {
   "cell_type": "markdown",
   "id": "786c666c",
   "metadata": {},
   "source": [
    "# Take inuput from user"
   ]
  },
  {
   "cell_type": "code",
   "execution_count": 7,
   "id": "eaf2281d",
   "metadata": {},
   "outputs": [
    {
     "name": "stdout",
     "output_type": "stream",
     "text": [
      "Enter first number\n",
      "2\n",
      "enter second number\n",
      "1\n",
      "The string entered by user is 3\n"
     ]
    }
   ],
   "source": [
    "print(\"Enter first number\")\n",
    "a=input()\n",
    "print(\"enter second number\")\n",
    "b=input()\n",
    "sum =int(a)+int(b)\n",
    "print(\"The string entered by user is\",sum)"
   ]
  },
  {
   "cell_type": "code",
   "execution_count": null,
   "id": "8f07da88",
   "metadata": {},
   "outputs": [],
   "source": []
  }
 ],
 "metadata": {
  "kernelspec": {
   "display_name": "Python 3",
   "language": "python",
   "name": "python3"
  },
  "language_info": {
   "codemirror_mode": {
    "name": "ipython",
    "version": 3
   },
   "file_extension": ".py",
   "mimetype": "text/x-python",
   "name": "python",
   "nbconvert_exporter": "python",
   "pygments_lexer": "ipython3",
   "version": "3.8.8"
  }
 },
 "nbformat": 4,
 "nbformat_minor": 5
}
