{
 "cells": [
  {
   "cell_type": "markdown",
   "id": "596fd7ca",
   "metadata": {},
   "source": [
    "# Difference two numbers"
   ]
  },
  {
   "cell_type": "code",
   "execution_count": 10,
   "id": "3f11bb84",
   "metadata": {},
   "outputs": [
    {
     "name": "stdout",
     "output_type": "stream",
     "text": [
      "difference between two numbers -1\n"
     ]
    }
   ],
   "source": [
    "Number1=21\n",
    "Number2=22\n",
    "difference= Number1-Number2\n",
    "print(\"difference between two numbers\",difference)"
   ]
  },
  {
   "cell_type": "markdown",
   "id": "edf315a4",
   "metadata": {},
   "source": [
    "# product of two number"
   ]
  },
  {
   "cell_type": "code",
   "execution_count": 11,
   "id": "930fca48",
   "metadata": {},
   "outputs": [
    {
     "name": "stdout",
     "output_type": "stream",
     "text": [
      "product of two number 2278\n"
     ]
    }
   ],
   "source": [
    "Number1= 34\n",
    "Number2=67\n",
    "multiply=Number1*Number2\n",
    "print(\"product of two number\",multiply)"
   ]
  },
  {
   "cell_type": "markdown",
   "id": "d8eddddc",
   "metadata": {},
   "source": [
    "# division"
   ]
  },
  {
   "cell_type": "code",
   "execution_count": 12,
   "id": "b0d52539",
   "metadata": {},
   "outputs": [
    {
     "name": "stdout",
     "output_type": "stream",
     "text": [
      "division of two number 0.5074626865671642\n"
     ]
    }
   ],
   "source": [
    "Number1= 34\n",
    "Number2=67\n",
    "Div=Number1/Number2\n",
    "print(\"division of two number\",Div)"
   ]
  },
  {
   "cell_type": "markdown",
   "id": "60ecba91",
   "metadata": {},
   "source": [
    "# modulus "
   ]
  },
  {
   "cell_type": "code",
   "execution_count": 13,
   "id": "55d1c7e8",
   "metadata": {},
   "outputs": [
    {
     "name": "stdout",
     "output_type": "stream",
     "text": [
      "modulus of two number 34\n"
     ]
    }
   ],
   "source": [
    "Number1= 34\n",
    "Number2=67\n",
    "mod=Number1%Number2\n",
    "print(\"modulus of two number\",mod)"
   ]
  },
  {
   "cell_type": "code",
   "execution_count": null,
   "id": "09d67db9",
   "metadata": {},
   "outputs": [],
   "source": []
  }
 ],
 "metadata": {
  "kernelspec": {
   "display_name": "Python 3",
   "language": "python",
   "name": "python3"
  },
  "language_info": {
   "codemirror_mode": {
    "name": "ipython",
    "version": 3
   },
   "file_extension": ".py",
   "mimetype": "text/x-python",
   "name": "python",
   "nbconvert_exporter": "python",
   "pygments_lexer": "ipython3",
   "version": "3.8.8"
  }
 },
 "nbformat": 4,
 "nbformat_minor": 5
}
